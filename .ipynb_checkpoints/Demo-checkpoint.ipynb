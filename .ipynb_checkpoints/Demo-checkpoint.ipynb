{
 "cells": [
  {
   "cell_type": "code",
   "execution_count": 26,
   "id": "9530c7ed",
   "metadata": {},
   "outputs": [],
   "source": [
    "import builder as builder\n",
    "import geopandas as gpd\n",
    "import pandas as pd"
   ]
  },
  {
   "cell_type": "markdown",
   "id": "ca489eca",
   "metadata": {},
   "source": [
    "# Demostration of the thesis code"
   ]
  },
  {
   "cell_type": "markdown",
   "id": "85eaa65d",
   "metadata": {},
   "source": [
    "### Loading the data files"
   ]
  },
  {
   "cell_type": "code",
   "execution_count": 2,
   "id": "c638dd24",
   "metadata": {},
   "outputs": [],
   "source": [
    "klein_raw = pd.read_csv('data/klein/results.csv')\n",
    "klein_agg = gpd.read_file('data/klein/agg_results.geojson')\n",
    "\n",
    "gross_raw = pd.read_csv('data/gross/results.csv')\n",
    "gross_agg = gpd.read_file('data/gross/agg_results.geojson')\n",
    "\n",
    "cop_points = gpd.read_file('data/cop/ems.shp')\n",
    "cop_buildings = gpd.read_file('data/cop/cop_clipped_footprints.shp')\n",
    "\n",
    "# the buildings that were moved to account for the georeference shift of the\n",
    "# MS-small project\n",
    "cop_buildings_moved = gpd.read_file('data/cop/cop_footprints_moved.shp')\n",
    "\n",
    "gt_agg = gpd.read_file('data/reference/agg_fertig.shp')"
   ]
  },
  {
   "cell_type": "markdown",
   "id": "92be063f",
   "metadata": {},
   "source": [
    "### Create Project Instances\n",
    "The input for the Objects are the raw data, the aggregated data and the Copernicus buildings. For MS-small the reference dataset (gt_agg) is loaded too. Also the filter_bad_im gives the threshold for a picture with a bad image share > than the threshold. To deactive the threshold, set no input or False.\n",
    "\n",
    "The Statistics class inherits from the Project class and provides some more methods for user analyses.\n",
    "\n",
    "Some information is outputted while initializing the class.\n",
    "\n",
    "Info for the GLAD algorithm: Since the GLAD algorithm takes a while to run, the results are loaded from a file. If new MapSwipe data is added, Line 945 in the builder.py has to be reactivated."
   ]
  },
  {
   "cell_type": "code",
   "execution_count": 28,
   "id": "e659a6fd",
   "metadata": {},
   "outputs": [
    {
     "name": "stdout",
     "output_type": "stream",
     "text": [
      "Bad imagery threshold is active (0.5) \n",
      "ignoring all pictures with given or higher bad imagery share\n",
      "Added Individual Answers!\n",
      "Setted Tiles with Copernicus Polygons!\n",
      "Added MapSwipe Collection!\n",
      "Added Copernicus Collections!\n"
     ]
    },
    {
     "ename": "FileNotFoundError",
     "evalue": "[Errno 2] No such file or directory: 'outputs/gross_glad_data.txt'",
     "output_type": "error",
     "traceback": [
      "\u001b[1;31m---------------------------------------------------------------------------\u001b[0m",
      "\u001b[1;31mFileNotFoundError\u001b[0m                         Traceback (most recent call last)",
      "\u001b[1;32mC:\\Users\\SIMSI_~1\\AppData\\Local\\Temp/ipykernel_13784/3954924004.py\u001b[0m in \u001b[0;36m<module>\u001b[1;34m\u001b[0m\n\u001b[0;32m      1\u001b[0m \u001b[1;31m# Load an object of the MS-big data\u001b[0m\u001b[1;33m\u001b[0m\u001b[1;33m\u001b[0m\u001b[1;33m\u001b[0m\u001b[0m\n\u001b[1;32m----> 2\u001b[1;33m \u001b[0mGb\u001b[0m \u001b[1;33m=\u001b[0m \u001b[0mbuilder\u001b[0m\u001b[1;33m.\u001b[0m\u001b[0mProject\u001b[0m\u001b[1;33m(\u001b[0m\u001b[0mgross_raw\u001b[0m\u001b[1;33m,\u001b[0m \u001b[0mgross_agg\u001b[0m\u001b[1;33m,\u001b[0m \u001b[0mcop_buildings\u001b[0m\u001b[1;33m,\u001b[0m \u001b[0mfilter_bad_im\u001b[0m\u001b[1;33m=\u001b[0m\u001b[1;36m0.5\u001b[0m\u001b[1;33m)\u001b[0m\u001b[1;33m\u001b[0m\u001b[1;33m\u001b[0m\u001b[0m\n\u001b[0m\u001b[0;32m      3\u001b[0m \u001b[1;33m\u001b[0m\u001b[0m\n\u001b[0;32m      4\u001b[0m \u001b[1;31m# And one of the MS-small\u001b[0m\u001b[1;33m\u001b[0m\u001b[1;33m\u001b[0m\u001b[1;33m\u001b[0m\u001b[0m\n\u001b[0;32m      5\u001b[0m \u001b[0mKbm\u001b[0m \u001b[1;33m=\u001b[0m \u001b[0mbuilder\u001b[0m\u001b[1;33m.\u001b[0m\u001b[0mStatistics\u001b[0m\u001b[1;33m(\u001b[0m\u001b[0mklein_raw\u001b[0m\u001b[1;33m,\u001b[0m \u001b[0mklein_agg\u001b[0m\u001b[1;33m,\u001b[0m \u001b[0mcop_buildings_moved\u001b[0m\u001b[1;33m,\u001b[0m \u001b[0mgt_agg\u001b[0m\u001b[1;33m,\u001b[0m \u001b[0mfilter_bad_im\u001b[0m\u001b[1;33m=\u001b[0m\u001b[1;36m0.5\u001b[0m\u001b[1;33m)\u001b[0m\u001b[1;33m\u001b[0m\u001b[1;33m\u001b[0m\u001b[0m\n",
      "\u001b[1;32mD:\\Bachelorarbeit\\thesis_code\\thesis_code\\Spyder\\builder.py\u001b[0m in \u001b[0;36m__init__\u001b[1;34m(self, raw, agg, cop, ground_truth, filter_bad_im, compress_answers)\u001b[0m\n\u001b[0;32m    230\u001b[0m         \u001b[1;31m#     self.run_glad(thres)\u001b[0m\u001b[1;33m\u001b[0m\u001b[1;33m\u001b[0m\u001b[1;33m\u001b[0m\u001b[0m\n\u001b[0;32m    231\u001b[0m \u001b[1;33m\u001b[0m\u001b[0m\n\u001b[1;32m--> 232\u001b[1;33m         \u001b[0mself\u001b[0m\u001b[1;33m.\u001b[0m\u001b[0mrun_glad\u001b[0m\u001b[1;33m(\u001b[0m\u001b[0mthreshold\u001b[0m\u001b[1;33m=\u001b[0m\u001b[1;36m1e-5\u001b[0m\u001b[1;33m,\u001b[0m \u001b[0mload_old\u001b[0m\u001b[1;33m=\u001b[0m\u001b[1;32mTrue\u001b[0m\u001b[1;33m)\u001b[0m\u001b[1;33m\u001b[0m\u001b[1;33m\u001b[0m\u001b[0m\n\u001b[0m\u001b[0;32m    233\u001b[0m \u001b[1;33m\u001b[0m\u001b[0m\n\u001b[0;32m    234\u001b[0m         \u001b[0mself\u001b[0m\u001b[1;33m.\u001b[0m\u001b[0mnot_identified_tiles\u001b[0m \u001b[1;33m=\u001b[0m \u001b[1;33m[\u001b[0m\u001b[1;33m]\u001b[0m\u001b[1;33m\u001b[0m\u001b[1;33m\u001b[0m\u001b[0m\n",
      "\u001b[1;32mD:\\Bachelorarbeit\\thesis_code\\thesis_code\\Spyder\\builder.py\u001b[0m in \u001b[0;36mrun_glad\u001b[1;34m(self, threshold, load_old)\u001b[0m\n\u001b[0;32m    927\u001b[0m \u001b[1;33m\u001b[0m\u001b[0m\n\u001b[0;32m    928\u001b[0m         \u001b[0mfile\u001b[0m \u001b[1;33m=\u001b[0m \u001b[1;34mf'outputs/{self.size}_glad_data.txt'\u001b[0m\u001b[1;33m\u001b[0m\u001b[1;33m\u001b[0m\u001b[0m\n\u001b[1;32m--> 929\u001b[1;33m         \u001b[0mdf\u001b[0m\u001b[1;33m.\u001b[0m\u001b[0mto_csv\u001b[0m\u001b[1;33m(\u001b[0m\u001b[0mfile\u001b[0m\u001b[1;33m,\u001b[0m \u001b[0mheader\u001b[0m\u001b[1;33m=\u001b[0m\u001b[0mheader\u001b[0m\u001b[1;33m,\u001b[0m \u001b[0mindex\u001b[0m\u001b[1;33m=\u001b[0m\u001b[1;32mFalse\u001b[0m\u001b[1;33m,\u001b[0m \u001b[0msep\u001b[0m\u001b[1;33m=\u001b[0m\u001b[1;34m' '\u001b[0m\u001b[1;33m)\u001b[0m\u001b[1;33m\u001b[0m\u001b[1;33m\u001b[0m\u001b[0m\n\u001b[0m\u001b[0;32m    930\u001b[0m \u001b[1;33m\u001b[0m\u001b[0m\n\u001b[0;32m    931\u001b[0m         \u001b[0mprint\u001b[0m\u001b[1;33m(\u001b[0m\u001b[1;34mf\"Running GLAD... {threshold}\\n\"\u001b[0m\u001b[1;33m)\u001b[0m\u001b[1;33m\u001b[0m\u001b[1;33m\u001b[0m\u001b[0m\n",
      "\u001b[1;32m~\\anaconda3\\envs\\BA\\lib\\site-packages\\pandas\\core\\generic.py\u001b[0m in \u001b[0;36mto_csv\u001b[1;34m(self, path_or_buf, sep, na_rep, float_format, columns, header, index, index_label, mode, encoding, compression, quoting, quotechar, line_terminator, chunksize, date_format, doublequote, escapechar, decimal, errors, storage_options)\u001b[0m\n\u001b[0;32m   3464\u001b[0m         )\n\u001b[0;32m   3465\u001b[0m \u001b[1;33m\u001b[0m\u001b[0m\n\u001b[1;32m-> 3466\u001b[1;33m         return DataFrameRenderer(formatter).to_csv(\n\u001b[0m\u001b[0;32m   3467\u001b[0m             \u001b[0mpath_or_buf\u001b[0m\u001b[1;33m,\u001b[0m\u001b[1;33m\u001b[0m\u001b[1;33m\u001b[0m\u001b[0m\n\u001b[0;32m   3468\u001b[0m             \u001b[0mline_terminator\u001b[0m\u001b[1;33m=\u001b[0m\u001b[0mline_terminator\u001b[0m\u001b[1;33m,\u001b[0m\u001b[1;33m\u001b[0m\u001b[1;33m\u001b[0m\u001b[0m\n",
      "\u001b[1;32m~\\anaconda3\\envs\\BA\\lib\\site-packages\\pandas\\io\\formats\\format.py\u001b[0m in \u001b[0;36mto_csv\u001b[1;34m(self, path_or_buf, encoding, sep, columns, index_label, mode, compression, quoting, quotechar, line_terminator, chunksize, date_format, doublequote, escapechar, errors, storage_options)\u001b[0m\n\u001b[0;32m   1103\u001b[0m             \u001b[0mformatter\u001b[0m\u001b[1;33m=\u001b[0m\u001b[0mself\u001b[0m\u001b[1;33m.\u001b[0m\u001b[0mfmt\u001b[0m\u001b[1;33m,\u001b[0m\u001b[1;33m\u001b[0m\u001b[1;33m\u001b[0m\u001b[0m\n\u001b[0;32m   1104\u001b[0m         )\n\u001b[1;32m-> 1105\u001b[1;33m         \u001b[0mcsv_formatter\u001b[0m\u001b[1;33m.\u001b[0m\u001b[0msave\u001b[0m\u001b[1;33m(\u001b[0m\u001b[1;33m)\u001b[0m\u001b[1;33m\u001b[0m\u001b[1;33m\u001b[0m\u001b[0m\n\u001b[0m\u001b[0;32m   1106\u001b[0m \u001b[1;33m\u001b[0m\u001b[0m\n\u001b[0;32m   1107\u001b[0m         \u001b[1;32mif\u001b[0m \u001b[0mcreated_buffer\u001b[0m\u001b[1;33m:\u001b[0m\u001b[1;33m\u001b[0m\u001b[1;33m\u001b[0m\u001b[0m\n",
      "\u001b[1;32m~\\anaconda3\\envs\\BA\\lib\\site-packages\\pandas\\io\\formats\\csvs.py\u001b[0m in \u001b[0;36msave\u001b[1;34m(self)\u001b[0m\n\u001b[0;32m    235\u001b[0m         \"\"\"\n\u001b[0;32m    236\u001b[0m         \u001b[1;31m# apply compression and byte/text conversion\u001b[0m\u001b[1;33m\u001b[0m\u001b[1;33m\u001b[0m\u001b[1;33m\u001b[0m\u001b[0m\n\u001b[1;32m--> 237\u001b[1;33m         with get_handle(\n\u001b[0m\u001b[0;32m    238\u001b[0m             \u001b[0mself\u001b[0m\u001b[1;33m.\u001b[0m\u001b[0mfilepath_or_buffer\u001b[0m\u001b[1;33m,\u001b[0m\u001b[1;33m\u001b[0m\u001b[1;33m\u001b[0m\u001b[0m\n\u001b[0;32m    239\u001b[0m             \u001b[0mself\u001b[0m\u001b[1;33m.\u001b[0m\u001b[0mmode\u001b[0m\u001b[1;33m,\u001b[0m\u001b[1;33m\u001b[0m\u001b[1;33m\u001b[0m\u001b[0m\n",
      "\u001b[1;32m~\\anaconda3\\envs\\BA\\lib\\site-packages\\pandas\\io\\common.py\u001b[0m in \u001b[0;36mget_handle\u001b[1;34m(path_or_buf, mode, encoding, compression, memory_map, is_text, errors, storage_options)\u001b[0m\n\u001b[0;32m    700\u001b[0m         \u001b[1;32mif\u001b[0m \u001b[0mioargs\u001b[0m\u001b[1;33m.\u001b[0m\u001b[0mencoding\u001b[0m \u001b[1;32mand\u001b[0m \u001b[1;34m\"b\"\u001b[0m \u001b[1;32mnot\u001b[0m \u001b[1;32min\u001b[0m \u001b[0mioargs\u001b[0m\u001b[1;33m.\u001b[0m\u001b[0mmode\u001b[0m\u001b[1;33m:\u001b[0m\u001b[1;33m\u001b[0m\u001b[1;33m\u001b[0m\u001b[0m\n\u001b[0;32m    701\u001b[0m             \u001b[1;31m# Encoding\u001b[0m\u001b[1;33m\u001b[0m\u001b[1;33m\u001b[0m\u001b[1;33m\u001b[0m\u001b[0m\n\u001b[1;32m--> 702\u001b[1;33m             handle = open(\n\u001b[0m\u001b[0;32m    703\u001b[0m                 \u001b[0mhandle\u001b[0m\u001b[1;33m,\u001b[0m\u001b[1;33m\u001b[0m\u001b[1;33m\u001b[0m\u001b[0m\n\u001b[0;32m    704\u001b[0m                 \u001b[0mioargs\u001b[0m\u001b[1;33m.\u001b[0m\u001b[0mmode\u001b[0m\u001b[1;33m,\u001b[0m\u001b[1;33m\u001b[0m\u001b[1;33m\u001b[0m\u001b[0m\n",
      "\u001b[1;31mFileNotFoundError\u001b[0m: [Errno 2] No such file or directory: 'outputs/gross_glad_data.txt'"
     ]
    }
   ],
   "source": [
    "# Load an object of the MS-big data\n",
    "Gb = builder.Project(gross_raw, gross_agg, cop_buildings, filter_bad_im=0.5)\n",
    "\n",
    "# And one of the MS-small\n",
    "Kbm = builder.Statistics(klein_raw, klein_agg, cop_buildings_moved, gt_agg, filter_bad_im=0.5)"
   ]
  },
  {
   "cell_type": "markdown",
   "id": "d1682a56",
   "metadata": {},
   "source": [
    "### Attributres\n",
    "The following attributes can be found for an object.\n",
    "In the end, not all attributes are really used, so some could be outdated."
   ]
  },
  {
   "cell_type": "code",
   "execution_count": null,
   "id": "1aa97f56",
   "metadata": {},
   "outputs": [],
   "source": [
    "list(Kbm.__dict__)"
   ]
  },
  {
   "cell_type": "markdown",
   "id": "60eb5b44",
   "metadata": {},
   "source": [
    "### Methods\n",
    "The following public methods can be found for an object."
   ]
  },
  {
   "cell_type": "code",
   "execution_count": null,
   "id": "d3cf60c7",
   "metadata": {},
   "outputs": [],
   "source": [
    "sorted(Kbm.__dir__()[47:72])"
   ]
  },
  {
   "cell_type": "markdown",
   "id": "a2976036",
   "metadata": {},
   "source": [
    "### None plotting examples"
   ]
  },
  {
   "cell_type": "code",
   "execution_count": null,
   "id": "905df993",
   "metadata": {},
   "outputs": [],
   "source": [
    "# get gets you a certain tile\n",
    "tile = Kbm.get('20-309459-470366')\n",
    "#list(tile.__dict__)"
   ]
  },
  {
   "cell_type": "code",
   "execution_count": null,
   "id": "fc629ab7",
   "metadata": {},
   "outputs": [],
   "source": [
    "# export methods save something with an filename input\n",
    "# export idx for example takes a list of indices and exports ther geometries as a shapefile\n",
    "Kbm.export_idx([5, 8, 13, 21, 34], 'example.shp')"
   ]
  },
  {
   "cell_type": "code",
   "execution_count": null,
   "id": "9de4fa35",
   "metadata": {},
   "outputs": [],
   "source": [
    "# get Accuracy, Precision, Sensitivity and F1 for a certain collection or user id\n",
    "print(Kbm.get_spec_sens('min_45'))\n",
    "\n",
    "# get the raw counts for the TN, FP, FN, TP values\n",
    "print(Kbm.get_spec_sens('min_45', counts=True))\n",
    "\n",
    "# or get the values based on a user_id\n",
    "print(Kbm.get_spec_sens(user_id='NFlvMjIcKwOrui9olixZwlLUNFv2'))"
   ]
  },
  {
   "cell_type": "markdown",
   "id": "2589ee04",
   "metadata": {},
   "source": [
    "### Confusion Matrices\n",
    "Confusion matrices are created by using the collections, these are accessed by their keys, e.g. 'min_65'.\n",
    "There are two ways of getting confusion matrices:\n",
    "1. with two collections with the get_confusion_matrix method\n",
    "2. with multiple collections with the get_big_confusions_matrix_meine method\n",
    "\n",
    "However, the get_confusion_matrix method is outdated so its better to also use the get_big_confusion_matrix_meine method but wiht only one input as a list"
   ]
  },
  {
   "cell_type": "code",
   "execution_count": null,
   "id": "95957499",
   "metadata": {},
   "outputs": [],
   "source": [
    "# confusion matrix between the damaged and destroyed copernicus buildings and all tiles with at least 35 % positive answers\n",
    "Kbm.get_big_confusion_matrix_meine(['min_35'], ['GT'])"
   ]
  },
  {
   "cell_type": "code",
   "execution_count": null,
   "id": "11222a26",
   "metadata": {},
   "outputs": [],
   "source": [
    "# multiple confusion matrices in one Table with lists of collection keys\n",
    "Kbm.get_big_confusion_matrix_meine(['min_35', 'min_65', 'glad_yes'], ['cop_all', 'cop_damaged_or_destroyed', 'GT'])"
   ]
  },
  {
   "cell_type": "markdown",
   "id": "97977b99",
   "metadata": {},
   "source": [
    "# Result plotting\n",
    "Plotting can be done directly in the Project class. Quality assessment will not work for the MS-big project since there is not groud truth initialized."
   ]
  },
  {
   "cell_type": "markdown",
   "id": "5f9b0abd",
   "metadata": {},
   "source": [
    "### Quality Parameters by Threshold\n",
    "Figure 11"
   ]
  },
  {
   "cell_type": "code",
   "execution_count": null,
   "id": "8117e460",
   "metadata": {},
   "outputs": [],
   "source": [
    "Kbm.plot_measures()"
   ]
  },
  {
   "cell_type": "markdown",
   "id": "d40d7e4d",
   "metadata": {},
   "source": [
    "### ROC for obeserved TPRs and FPRs\n",
    "Figure 12"
   ]
  },
  {
   "cell_type": "code",
   "execution_count": null,
   "id": "6fa1ae95",
   "metadata": {},
   "outputs": [],
   "source": [
    "Kbm.plot_roc()"
   ]
  },
  {
   "cell_type": "markdown",
   "id": "55b95656",
   "metadata": {},
   "source": [
    "### The cumulative tiles per user distribution\n",
    "Figure 14"
   ]
  },
  {
   "cell_type": "code",
   "execution_count": null,
   "id": "1e2bb869",
   "metadata": {},
   "outputs": [],
   "source": [
    "Kbm.cum_user_plot()"
   ]
  },
  {
   "cell_type": "markdown",
   "id": "deb267c4",
   "metadata": {},
   "source": [
    "### Quality Measures for each MapSwipe user\n",
    "Figure 15\n",
    "\n",
    "The warnings appear because some users did process only a few tiles, leading to devision by 0 for some quality measures."
   ]
  },
  {
   "cell_type": "code",
   "execution_count": null,
   "id": "8ace07f5",
   "metadata": {
    "scrolled": true
   },
   "outputs": [],
   "source": [
    "Kbm.plot_user_stats()"
   ]
  },
  {
   "cell_type": "markdown",
   "id": "9f65744b",
   "metadata": {},
   "source": [
    "### ROCs for different user characterisitcs\n",
    "Figure 16"
   ]
  },
  {
   "cell_type": "code",
   "execution_count": null,
   "id": "021bb24e",
   "metadata": {
    "scrolled": true
   },
   "outputs": [],
   "source": [
    "Kbm.logit_by_statsmodels()"
   ]
  },
  {
   "cell_type": "markdown",
   "id": "251a2a05",
   "metadata": {},
   "source": [
    "### Cohens Kappas\n",
    "Figures 17 and 19"
   ]
  },
  {
   "cell_type": "code",
   "execution_count": null,
   "id": "4db53f0d",
   "metadata": {},
   "outputs": [],
   "source": [
    "_ = Kbm.plot_ms_cop_comparison()"
   ]
  },
  {
   "cell_type": "code",
   "execution_count": null,
   "id": "fb46468d",
   "metadata": {
    "scrolled": true
   },
   "outputs": [],
   "source": [
    "_ =Gb.plot_ms_cop_comparison()"
   ]
  },
  {
   "cell_type": "markdown",
   "id": "203f114a",
   "metadata": {},
   "source": [
    "### Note for Example Plotting"
   ]
  },
  {
   "cell_type": "markdown",
   "id": "59aa58e5",
   "metadata": {},
   "source": [
    "The example plotting file does only work with the raster images. These are unfortunately too large for a GitHub upload and are possible subjected too redistribution limits "
   ]
  },
  {
   "cell_type": "markdown",
   "id": "3b6479ee",
   "metadata": {},
   "source": [
    "### Data Sources"
   ]
  },
  {
   "cell_type": "code",
   "execution_count": null,
   "id": "88ffce85",
   "metadata": {},
   "outputs": [],
   "source": [
    "data = pd.read_csv('../data_overview.csv', sep=\";\")\n",
    "data"
   ]
  }
 ],
 "metadata": {
  "kernelspec": {
   "display_name": "Python 3 (ipykernel)",
   "language": "python",
   "name": "python3"
  },
  "language_info": {
   "codemirror_mode": {
    "name": "ipython",
    "version": 3
   },
   "file_extension": ".py",
   "mimetype": "text/x-python",
   "name": "python",
   "nbconvert_exporter": "python",
   "pygments_lexer": "ipython3",
   "version": "3.8.12"
  }
 },
 "nbformat": 4,
 "nbformat_minor": 5
}
