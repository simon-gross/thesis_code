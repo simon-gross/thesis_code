{
 "cells": [
  {
   "cell_type": "code",
   "execution_count": 1,
   "id": "9530c7ed",
   "metadata": {},
   "outputs": [],
   "source": [
    "import builder as builder\n",
    "import geopandas as gpd\n",
    "import pandas as pd"
   ]
  },
  {
   "cell_type": "markdown",
   "id": "ca489eca",
   "metadata": {},
   "source": [
    "# Demostration of the thesis code"
   ]
  },
  {
   "cell_type": "markdown",
   "id": "85eaa65d",
   "metadata": {},
   "source": [
    "### Loading the data files"
   ]
  },
  {
   "cell_type": "code",
   "execution_count": 2,
   "id": "c638dd24",
   "metadata": {},
   "outputs": [],
   "source": [
    "klein_raw = pd.read_csv('data/klein/results.csv')\n",
    "klein_agg = gpd.read_file('data/klein/agg_results.geojson')\n",
    "\n",
    "gross_raw = pd.read_csv('data/gross/results.csv')\n",
    "gross_agg = gpd.read_file('data/gross/agg_results.geojson')\n",
    "\n",
    "cop_points = gpd.read_file('data/cop/ems.shp')\n",
    "cop_buildings = gpd.read_file('data/cop/cop_clipped_footprints.shp')\n",
    "\n",
    "# the buildings that were moved to account for the georeference shift of the\n",
    "# MS-small project\n",
    "cop_buildings_moved = gpd.read_file('data/cop/cop_footprints_moved.shp')\n",
    "\n",
    "gt_agg = gpd.read_file('data/reference/agg_fertig.shp')"
   ]
  },
  {
   "cell_type": "markdown",
   "id": "92be063f",
   "metadata": {},
   "source": [
    "### Create Project Instances\n",
    "The input for the Objects are the raw data, the aggregated data and the Copernicus buildings. For MS-small the reference dataset (gt_agg) is loaded too. Also the filter_bad_im gives the threshold for a picture with a bad image share > than the threshold. To deactive the threshold, set no input or False.\n",
    "\n",
    "The Statistics class inherits from the Project class and provides some more methods for user analyses.\n",
    "\n",
    "Some information is outputted while initializing the class.\n",
    "\n",
    "Info for the GLAD algorithm: Since the GLAD algorithm takes a while to run, the results are loaded from a file. If new MapSwipe data is added, Line 945 in the builder.py has to be reactivated."
   ]
  },
  {
   "cell_type": "code",
   "execution_count": null,
   "id": "e659a6fd",
   "metadata": {},
   "outputs": [
    {
     "name": "stdout",
     "output_type": "stream",
     "text": [
      "Bad imagery threshold is active (0.5) \n",
      "ignoring all pictures with given or higher bad imagery share\n",
      "Added Individual Answers!\n",
      "Setted Tiles with Copernicus Polygons!\n",
      "Added MapSwipe Collection!\n",
      "Added Copernicus Collections!\n",
      "Running GLAD... 1e-05\n",
      "\n",
      "Bad imagery threshold is active (0.5) \n",
      "ignoring all pictures with given or higher bad imagery share\n"
     ]
    }
   ],
   "source": [
    "# Load an object of the MS-big data\n",
    "Gb = builder.Project(gross_raw, gross_agg, cop_buildings, filter_bad_im=0.5)\n",
    "\n",
    "# And one of the MS-small\n",
    "Kbm = builder.Statistics(klein_raw, klein_agg, cop_buildings_moved, gt_agg, filter_bad_im=0.5)"
   ]
  },
  {
   "cell_type": "markdown",
   "id": "d1682a56",
   "metadata": {},
   "source": [
    "### Attributres\n",
    "The following attributes can be found for an object.\n",
    "In the end, not all attributes are really used, so some could be outdated."
   ]
  },
  {
   "cell_type": "code",
   "execution_count": null,
   "id": "1aa97f56",
   "metadata": {},
   "outputs": [],
   "source": [
    "list(Kbm.__dict__)"
   ]
  },
  {
   "cell_type": "markdown",
   "id": "60eb5b44",
   "metadata": {},
   "source": [
    "### Methods\n",
    "The following public methods can be found for an object."
   ]
  },
  {
   "cell_type": "code",
   "execution_count": null,
   "id": "d3cf60c7",
   "metadata": {},
   "outputs": [],
   "source": [
    "sorted(Kbm.__dir__()[47:72])"
   ]
  },
  {
   "cell_type": "markdown",
   "id": "a2976036",
   "metadata": {},
   "source": [
    "### None plotting examples"
   ]
  },
  {
   "cell_type": "code",
   "execution_count": null,
   "id": "905df993",
   "metadata": {},
   "outputs": [],
   "source": [
    "# get gets you a certain tile\n",
    "tile = Kbm.get('20-309459-470366')\n",
    "#list(tile.__dict__)"
   ]
  },
  {
   "cell_type": "code",
   "execution_count": null,
   "id": "fc629ab7",
   "metadata": {},
   "outputs": [],
   "source": [
    "# export methods save something with an filename input\n",
    "# export idx for example takes a list of indices and exports ther geometries as a shapefile\n",
    "Kbm.export_idx([5, 8, 13, 21, 34], 'example.shp')"
   ]
  },
  {
   "cell_type": "code",
   "execution_count": null,
   "id": "9de4fa35",
   "metadata": {},
   "outputs": [],
   "source": [
    "# get Accuracy, Precision, Sensitivity and F1 for a certain collection or user id\n",
    "print(Kbm.get_spec_sens('min_45'))\n",
    "\n",
    "# get the raw counts for the TN, FP, FN, TP values\n",
    "print(Kbm.get_spec_sens('min_45', counts=True))\n",
    "\n",
    "# or get the values based on a user_id\n",
    "# The warnings appear because some users did process only a few tiles, leading to devision by 0 for some quality measures.\n",
    "Kbm.user_stats()\n",
    "print(Kbm.get_spec_sens(user_id='NFlvMjIcKwOrui9olixZwlLUNFv2'))"
   ]
  },
  {
   "cell_type": "markdown",
   "id": "2589ee04",
   "metadata": {},
   "source": [
    "### Confusion Matrices\n",
    "Confusion matrices are created by using the collections, these are accessed by their keys, e.g. 'min_65'.\n",
    "There are two ways of getting confusion matrices:\n",
    "1. with two collections with the get_confusion_matrix method\n",
    "2. with multiple collections with the get_big_confusions_matrix_meine method\n",
    "\n",
    "However, the get_confusion_matrix method is outdated so its better to also use the get_big_confusion_matrix_meine method but wiht only one input as a list"
   ]
  },
  {
   "cell_type": "code",
   "execution_count": null,
   "id": "95957499",
   "metadata": {},
   "outputs": [],
   "source": [
    "# confusion matrix between the damaged and destroyed copernicus buildings and all tiles with at least 35 % positive answers\n",
    "Kbm.get_big_confusion_matrix_meine(['min_35'], ['GT'])"
   ]
  },
  {
   "cell_type": "code",
   "execution_count": null,
   "id": "11222a26",
   "metadata": {},
   "outputs": [],
   "source": [
    "# multiple confusion matrices in one Table with lists of collection keys\n",
    "Kbm.get_big_confusion_matrix_meine(['min_35', 'min_65', 'glad_yes'], ['cop_all', 'cop_damaged_or_destroyed', 'GT'])"
   ]
  },
  {
   "cell_type": "markdown",
   "id": "97977b99",
   "metadata": {},
   "source": [
    "# Result plotting\n",
    "Plotting can be done directly in the Project class. Quality assessment will not work for the MS-big project since there is not groud truth initialized."
   ]
  },
  {
   "cell_type": "markdown",
   "id": "5f9b0abd",
   "metadata": {},
   "source": [
    "### Quality Parameters by Threshold\n",
    "Figure 11"
   ]
  },
  {
   "cell_type": "code",
   "execution_count": null,
   "id": "8117e460",
   "metadata": {},
   "outputs": [],
   "source": [
    "Kbm.plot_measures()"
   ]
  },
  {
   "cell_type": "markdown",
   "id": "d40d7e4d",
   "metadata": {},
   "source": [
    "### ROC for obeserved TPRs and FPRs\n",
    "Figure 12"
   ]
  },
  {
   "cell_type": "code",
   "execution_count": null,
   "id": "6fa1ae95",
   "metadata": {},
   "outputs": [],
   "source": [
    "Kbm.plot_roc()"
   ]
  },
  {
   "cell_type": "markdown",
   "id": "55b95656",
   "metadata": {},
   "source": [
    "### The cumulative tiles per user distribution\n",
    "Figure 14"
   ]
  },
  {
   "cell_type": "code",
   "execution_count": null,
   "id": "1e2bb869",
   "metadata": {},
   "outputs": [],
   "source": [
    "Kbm.cum_user_plot()"
   ]
  },
  {
   "cell_type": "markdown",
   "id": "deb267c4",
   "metadata": {},
   "source": [
    "### Quality Measures for each MapSwipe user\n",
    "Figure 15\n",
    "\n",
    "The warnings appear because some users did process only a few tiles, leading to devision by 0 for some quality measures."
   ]
  },
  {
   "cell_type": "code",
   "execution_count": null,
   "id": "8ace07f5",
   "metadata": {
    "scrolled": true
   },
   "outputs": [],
   "source": [
    "Kbm.plot_user_stats()"
   ]
  },
  {
   "cell_type": "markdown",
   "id": "9f65744b",
   "metadata": {},
   "source": [
    "### ROCs for different user characterisitcs\n",
    "Figure 16"
   ]
  },
  {
   "cell_type": "code",
   "execution_count": null,
   "id": "021bb24e",
   "metadata": {
    "scrolled": true
   },
   "outputs": [],
   "source": [
    "Kbm.logit_by_statsmodels()"
   ]
  },
  {
   "cell_type": "markdown",
   "id": "251a2a05",
   "metadata": {},
   "source": [
    "### Cohens Kappas\n",
    "Figures 17 and 19"
   ]
  },
  {
   "cell_type": "code",
   "execution_count": null,
   "id": "4db53f0d",
   "metadata": {},
   "outputs": [],
   "source": [
    "_ = Kbm.plot_ms_cop_comparison()"
   ]
  },
  {
   "cell_type": "code",
   "execution_count": null,
   "id": "fb46468d",
   "metadata": {
    "scrolled": true
   },
   "outputs": [],
   "source": [
    "_ = Gb.plot_ms_cop_comparison()"
   ]
  },
  {
   "cell_type": "markdown",
   "id": "203f114a",
   "metadata": {},
   "source": [
    "### Note for Example Plotting"
   ]
  },
  {
   "cell_type": "markdown",
   "id": "59aa58e5",
   "metadata": {},
   "source": [
    "The example plotting file does only work with the raster images. These are unfortunately too large for a GitHub upload and are possible subjected too redistribution limits "
   ]
  },
  {
   "cell_type": "markdown",
   "id": "3b6479ee",
   "metadata": {},
   "source": [
    "### Data Sources"
   ]
  },
  {
   "cell_type": "code",
   "execution_count": null,
   "id": "88ffce85",
   "metadata": {},
   "outputs": [],
   "source": [
    "data = pd.read_csv('../data_overview.csv', sep=\";\")\n",
    "data"
   ]
  }
 ],
 "metadata": {
  "kernelspec": {
   "display_name": "Python 3 (ipykernel)",
   "language": "python",
   "name": "python3"
  },
  "language_info": {
   "codemirror_mode": {
    "name": "ipython",
    "version": 3
   },
   "file_extension": ".py",
   "mimetype": "text/x-python",
   "name": "python",
   "nbconvert_exporter": "python",
   "pygments_lexer": "ipython3",
   "version": "3.8.12"
  }
 },
 "nbformat": 4,
 "nbformat_minor": 5
}
